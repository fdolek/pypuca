{
 "cells": [
  {
   "cell_type": "code",
   "execution_count": 1,
   "metadata": {},
   "outputs": [],
   "source": [
    "import os\n",
    "import pickle\n",
    "import matplotlib.pyplot as plt\n",
    "from statistics import mean\n",
    "import math\n",
    "import cloudpickle\n",
    "import gzip\n",
    "import matplotlib as mpl\n",
    "\n",
    "from math import log"
   ]
  },
  {
   "cell_type": "code",
   "execution_count": 2,
   "metadata": {},
   "outputs": [],
   "source": [
    "from pylab import rcParams\n",
    "rcParams['figure.figsize'] = 16, 9\n",
    "rcParams.update({'figure.max_open_warning': 0,'font.size': 14,'axes.titlesize': 14,'axes.labelsize': 14,\n",
    "                 'axes.grid':True,'xtick.direction': 'in','ytick.direction': 'in','ytick.right': True,\n",
    "                 'xtick.top':True,'ytick.major.size': 10,'xtick.major.size': 10,'legend.fancybox': True,\n",
    "                 'legend.markerscale': 0.8,'legend.handlelength': 5.0\n",
    "                 #'axes.prop_cycle': cycler('color', ['#1f77b4', '#ff7f0e', '#2ca02c', '#d62728', '#9467bd', '#8c564b', '#e377c2', '#7f7f7f', '#bcbd22', '#17becf']),                 \n",
    "                 #'xtick.labelsize': 12,\n",
    "                 #'ytick.labelsize': 12\n",
    "                })\n",
    "\n",
    "#from cycler import cycler\n",
    "mpl.rcParams['grid.linestyle'] = '-.'\n",
    "#rcParams.keys() \n",
    "#plt.style.use('dark_background')\n",
    "#print(plt.style.available)\n"
   ]
  },
  {
   "cell_type": "code",
   "execution_count": 3,
   "metadata": {
    "scrolled": true
   },
   "outputs": [],
   "source": [
    "dirname = '/home/furkan/work/flicanalyzer/pypuca/dune/pods/'\n",
    "hists={}\n",
    "allArrays = np.array([])\n",
    "for filename in sorted(os.listdir(dirname)):\n",
    "    if '.pkl.gz' in filename:\n",
    "            with gzip.open(dirname+filename,'rb') as fin:\n",
    "                mydata = pickle.load(fin)\n",
    "                \n",
    "                for k in mydata.keys():\n",
    "                    if 'channel_132'==k:\n",
    "\n",
    "                        if k in hists: \n",
    "                            #allArrays  = np.concatenate((hists[k], mydata[k]))\n",
    "                             hists.update({k: np.concatenate((hists[k], mydata[k]))  })\n",
    "                            #allArrays  = np.concatenate((hists[k], mydata[k]))\n",
    "                        else: hists[k] = mydata[k]\n",
    "\n",
    "                    #mydata = pickle.load(fin)\n",
    "                    #np.concatenate((array2D_1, array2D_2))\n"
   ]
  },
  {
   "cell_type": "code",
   "execution_count": 4,
   "metadata": {
    "scrolled": true
   },
   "outputs": [
    {
     "data": {
      "text/plain": [
       "(34418, 2000)"
      ]
     },
     "execution_count": 4,
     "metadata": {},
     "output_type": "execute_result"
    }
   ],
   "source": [
    "hists['channel_132'].shape"
   ]
  },
  {
   "cell_type": "code",
   "execution_count": 9,
   "metadata": {},
   "outputs": [
    {
     "ename": "SyntaxError",
     "evalue": "invalid syntax (<ipython-input-9-65f04ac2da63>, line 6)",
     "output_type": "error",
     "traceback": [
      "\u001b[0;36m  File \u001b[0;32m\"<ipython-input-9-65f04ac2da63>\"\u001b[0;36m, line \u001b[0;32m6\u001b[0m\n\u001b[0;31m    baseline = [0:row.size, 800:1050].mean(axis=1)\u001b[0m\n\u001b[0m                 ^\u001b[0m\n\u001b[0;31mSyntaxError\u001b[0m\u001b[0;31m:\u001b[0m invalid syntax\n"
     ]
    }
   ],
   "source": [
    "import scipy.integrate as integrate\n",
    "\n",
    "data=hists['channel_132']\n",
    "integArr = np.array([])\n",
    "for row in data:\n",
    "    baseline = [0:row.size, 800:1050].mean(axis=1)\n",
    "    indata= row[1060:1350,]\n",
    "    result_simps = integrate.simps(indata)\n",
    "    #print(result_simps)\n",
    "    integArr = np.append(integArr, result_simps)\n",
    "    #print(integArr.shape)\n",
    "    #plt.plot(integArr)\n",
    "from scipy.stats import norm\n",
    "\n",
    "plt.hist(integArr, bins=600, density=True, facecolor='g', alpha=0.75, label='channel_132')\n",
    "#sns.distplot(integArr, kde=True)\n",
    "#sns.distplot(integArr,fit=stats.maxwell)\n",
    "\n",
    "#plt.yscale('log')\n",
    "plt.grid(True)\n",
    "plt.xlim(-10000, 5000000)\n",
    "\n",
    "plt.legend(labelspacing=1, fontsize='x-large')  # To draw legend\n",
    "plt.tick_params(axis='both',which='minor', direction=\"in\",length=5,width=1)\n",
    "plt.tick_params(axis='y',which='major', direction=\"in\",length=10,width=2)\n",
    "plt.tick_params(axis='x',which='major', direction=\"in\",length=10,width=1)\n",
    "\n",
    "plt.show()\n",
    "\n"
   ]
  },
  {
   "cell_type": "code",
   "execution_count": null,
   "metadata": {},
   "outputs": [],
   "source": []
  },
  {
   "cell_type": "code",
   "execution_count": null,
   "metadata": {},
   "outputs": [],
   "source": []
  },
  {
   "cell_type": "code",
   "execution_count": null,
   "metadata": {},
   "outputs": [],
   "source": []
  },
  {
   "cell_type": "code",
   "execution_count": null,
   "metadata": {},
   "outputs": [],
   "source": []
  },
  {
   "cell_type": "code",
   "execution_count": null,
   "metadata": {},
   "outputs": [],
   "source": []
  },
  {
   "cell_type": "code",
   "execution_count": null,
   "metadata": {},
   "outputs": [],
   "source": []
  },
  {
   "cell_type": "code",
   "execution_count": null,
   "metadata": {},
   "outputs": [],
   "source": []
  },
  {
   "cell_type": "code",
   "execution_count": null,
   "metadata": {},
   "outputs": [],
   "source": []
  },
  {
   "cell_type": "code",
   "execution_count": 10,
   "metadata": {},
   "outputs": [],
   "source": [
    "with gzip.open('concatenate.pkl.gz', 'wb') as fout:\n",
    "    cloudpickle.dump(hists, fout)"
   ]
  },
  {
   "cell_type": "code",
   "execution_count": 11,
   "metadata": {
    "scrolled": true
   },
   "outputs": [
    {
     "name": "stdout",
     "output_type": "stream",
     "text": [
      "channel_132 (34077, 2000)\n"
     ]
    }
   ],
   "source": [
    "from scipy.ndimage import gaussian_filter\n",
    "from scipy import stats\n",
    "from scipy import signal\n",
    "\n",
    "select_dict = {}\n",
    "\n",
    "for key in hists:\n",
    "    regression_arary = np.array([])\n",
    "    \n",
    "    for row in hists[key]:\n",
    "        \n",
    "        x = np.arange(len(row))\n",
    "        # lowpass filter\n",
    "        b, a = signal.butter(3, 0.05)\n",
    "        zi = signal.lfilter_zi(b, a)\n",
    "        z, _ = signal.lfilter(b, a, row, zi=zi*row[0])\n",
    "        z2, _ = signal.lfilter(b, a, z, zi=zi*z[0])\n",
    "        y = signal.filtfilt(b, a, row)\n",
    "        \n",
    "        slope, intercept, r_value, p_value, std_err = stats.linregress(x,y)\n",
    "        trend=np.absolute(slope)\n",
    "        mask=[trend < 0.01 ]\n",
    "    \n",
    "        regression_arary = np.append(regression_arary, mask, axis=0)\n",
    "        regression_arary=regression_arary > 0\n",
    "        \n",
    "    evtselect=hists[key][regression_arary]\n",
    "    print(key,evtselect.shape)\n",
    "    \n",
    "\n",
    "    gauss=gaussian_filter(evtselect, sigma=1)\n",
    "    baseline = evtselect[0:gauss.size, 800:1050].mean(axis=1)\n",
    "    #print(arr.size)\n",
    "    #Nevent = (baseline.size)\n",
    "    #print('nevent', Nevent)\n",
    "    blines = baseline.reshape(baseline.size, 1) \n",
    "    select_dict.update({key: evtselect-blines})\n"
   ]
  },
  {
   "cell_type": "code",
   "execution_count": 12,
   "metadata": {
    "scrolled": false
   },
   "outputs": [
    {
     "data": {
      "image/png": "[encoded data removed]",
      "text/plain": [
       "<Figure size 360x360 with 1 Axes>"
      ]
     },
     "metadata": {
      "needs_background": "light"
     },
     "output_type": "display_data"
    }
   ],
   "source": [
    "import scipy.integrate as integrate\n",
    "import seaborn as sns\n",
    "from scipy.signal import find_peaks\n",
    "\n",
    "rcParams['figure.figsize'] = 5, 5\n",
    "rcParams[\"legend.markerscale\"] = 1\n",
    "rcParams[\"legend.handlelength\"] = 1.0\n",
    "rcParams[\"legend.handletextpad\"] = 0.5\n",
    "import os\n",
    "\n",
    "\n",
    "\n",
    "\n",
    "for key in select_dict: \n",
    "    integArr = np.array([])\n",
    "    for row in select_dict[key]:\n",
    "        \n",
    "        indata= row[1060:1350,]\n",
    "        result_simps = integrate.simps(indata)\n",
    "        #print(result_simps)\n",
    "        integArr = np.append(integArr, result_simps)\n",
    "        #print(integArr.shape)\n",
    "        #plt.plot(integArr)\n",
    "    from scipy.stats import norm\n",
    "\n",
    "    plt.hist(integArr, bins=600, density=True, facecolor='g', alpha=0.75, label=key)\n",
    "    #sns.distplot(integArr, kde=True)\n",
    "    #sns.distplot(integArr,fit=stats.maxwell)\n",
    "\n",
    "    #plt.yscale('log')\n",
    "    plt.grid(True)\n",
    "    #plt.xlim(-100, 10000)\n",
    "\n",
    "    plt.legend(labelspacing=1, fontsize='x-large')  # To draw legend\n",
    "    plt.tick_params(axis='both',which='minor', direction=\"in\",length=5,width=1)\n",
    "    plt.tick_params(axis='y',which='major', direction=\"in\",length=10,width=2)\n",
    "    plt.tick_params(axis='x',which='major', direction=\"in\",length=10,width=1)\n",
    "\n",
    "    plt.show()\n",
    "    \n",
    "\n",
    "    "
   ]
  },
  {
   "cell_type": "code",
   "execution_count": 13,
   "metadata": {
    "scrolled": false
   },
   "outputs": [
    {
     "data": {
      "image/png": "[encoded data removed]",
      "text/plain": [
       "<Figure size 720x360 with 1 Axes>"
      ]
     },
     "metadata": {
      "needs_background": "light"
     },
     "output_type": "display_data"
    }
   ],
   "source": [
    "from matplotlib import rc\n",
    "from sklearn import mixture\n",
    "import matplotlib.pyplot as plt\n",
    "import numpy as np\n",
    "import matplotlib\n",
    "import matplotlib.ticker as tkr\n",
    "import scipy.stats as stats\n",
    "\n",
    "rcParams['figure.figsize'] = 10, 5\n",
    "\n",
    "for key in select_dict: \n",
    "    integArr = np.array([])\n",
    "    for row in select_dict[key]:\n",
    "        \n",
    "        indata= row[1060:1350,]\n",
    "        result_simps = integrate.simps(indata)\n",
    "        #print(result_simps)\n",
    "        integArr = np.append(integArr, result_simps)\n",
    "        #print(integArr.shape)\n",
    "        #plt.plot(integArr)\n",
    "    \n",
    "    sample=integArr\n",
    "    f = np.ravel(sample).astype(np.float)\n",
    "    f=f.reshape(-1,1)\n",
    "    g = mixture.GaussianMixture(n_components=4,covariance_type=\"full\",)\n",
    "    g.fit(f)\n",
    "    g1 = mixture.GaussianMixture(n_components=8,covariance_type=\"full\",)\n",
    "    g1.fit(f)\n",
    "    g2 = mixture.GaussianMixture(n_components=20,covariance_type=\"full\",)\n",
    "    g2.fit(f)\n",
    "    weights = g.weights_\n",
    "    means = g.means_\n",
    "    covars = g.covariances_\n",
    "    #print('w',weights, 'm', means, 'cov', covars)\n",
    "    \n",
    "    weights1 = g1.weights_\n",
    "    means1 = g1.means_\n",
    "    covars1 = g1.covariances_\n",
    "    \n",
    "    weights2 = g2.weights_\n",
    "    means2 = g2.means_\n",
    "    covars2 = g2.covariances_\n",
    "    \n",
    "    plt.hist(f, bins=150, histtype='step', density=True, ec='g', alpha=0.5)\n",
    "    \n",
    "    f_axis = f.copy().ravel()\n",
    "    f_axis.sort()\n",
    "    plt.plot(f_axis,weights[0]*stats.norm.pdf(f_axis,means[0],np.sqrt(covars[0])).ravel(), c='red')\n",
    "    plt.plot(f_axis,weights1[0]*stats.norm.pdf(f_axis,means1[0],np.sqrt(covars1[0])).ravel(), c='blue')\n",
    "    plt.plot(f_axis,weights2[0]*stats.norm.pdf(f_axis,means2[0],np.sqrt(covars2[0])).ravel(), c='black')\n",
    "   \n",
    "    plt.rcParams['agg.path.chunksize'] = 10000\n",
    "    plt.grid()\n",
    "    plt.show()"
   ]
  },
  {
   "cell_type": "code",
   "execution_count": 14,
   "metadata": {},
   "outputs": [
    {
     "name": "stdout",
     "output_type": "stream",
     "text": [
      "(34077,)\n"
     ]
    }
   ],
   "source": [
    "import scipy.integrate as integrate\n",
    "import seaborn as sns\n",
    "from scipy.signal import find_peaks\n",
    "\n",
    "import numpy as np\n",
    "import matplotlib\n",
    "import matplotlib.pyplot as plt\n",
    "from distutils.version import LooseVersion\n",
    "from scipy.stats import norm\n",
    "from sklearn.neighbors import KernelDensity\n",
    "\n",
    "# `normed` is being deprecated in favor of `density` in histograms\n",
    "if LooseVersion(matplotlib.__version__) >= '2.1':\n",
    "    density_param = {'density': True}\n",
    "else:\n",
    "    density_param = {'normed': True}\n",
    "import os\n",
    "from scipy.stats import norm\n",
    "\n",
    "\n",
    "\n",
    "for key in select_dict: \n",
    "    integArr = np.array([])\n",
    "    for row in select_dict[key]:\n",
    "        \n",
    "        indata= row[1060:1350,]\n",
    "        result_simps = integrate.simps(indata)\n",
    "        #print(result_simps)\n",
    "        integArr = np.append(integArr, result_simps)\n",
    "    print(integArr.shape)\n",
    "    # reshape\n",
    "        #plt.plot(integArr)\n",
    "\n",
    "\n"
   ]
  },
  {
   "cell_type": "code",
   "execution_count": null,
   "metadata": {},
   "outputs": [],
   "source": []
  },
  {
   "cell_type": "code",
   "execution_count": 15,
   "metadata": {
    "scrolled": false
   },
   "outputs": [
    {
     "name": "stdout",
     "output_type": "stream",
     "text": [
      "[ 20168.072        5710.93266667   5834.88466667  18431.22133333\n",
      "   8233.47466667  32466.35         5111.59866667   8619.54266667\n",
      "  20817.73666667  23366.57666667  10520.57066667  11201.16066667\n",
      "   9694.714       39095.48933333   6741.756       12600.27\n",
      "  59220.488       41684.01666667  17796.096        6621.318\n",
      "  19573.29066667  13798.392       23038.18733333  18681.31933333\n",
      "  58735.092       13718.96733333   8932.772        8301.26866667\n",
      "  44955.912        7314.67733333 112255.56666667   7002.19266667\n",
      "  11564.10933333  16492.51533333  12667.638       23089.14\n",
      "   3843.97533333  44873.278        3138.79266667   9225.722\n",
      "   6140.9          9638.74933333  24466.24666667   6002.15533333\n",
      "   9391.73266667   3103.372        6599.558        3325.81666667\n",
      "  20306.35666667   6094.33266667   4391.56866667]\n",
      "[  88.67938628   13.76130393   11.20520745   20.69834503   48.47859623\n",
      "  172.68519892   12.42494868   29.85105724   38.53468152   17.71034399\n",
      "   69.40907145   54.36350375  107.7231689   940.63296424   29.34967005\n",
      "   14.34422194 1446.69579887  897.8940831    67.80782659   14.79016307\n",
      "   28.02145245   33.75134303  243.595087    154.26696113 2465.01306963\n",
      "   76.59310367   27.97364131   32.07523105 1582.58130021   10.90357468\n",
      " 5783.20101493   17.55358475   23.8693838    30.33072567   19.18685964\n",
      "  159.86744531   21.40818841 2583.76330881   11.13668981   13.01887656\n",
      "   19.6495061    10.72597175  353.52464672   10.99842813   46.01526515\n",
      "   11.63039654   11.9267926    10.47660145   22.33904064   12.36994086\n",
      "   11.45592047]\n"
     ]
    },
    {
     "data": {
      "image/png": "[encoded data removed]",
      "text/plain": [
       "<Figure size 1440x720 with 1 Axes>"
      ]
     },
     "metadata": {
      "needs_background": "light"
     },
     "output_type": "display_data"
    }
   ],
   "source": [
    "import scipy.integrate as integrate\n",
    "import seaborn as sns\n",
    "from scipy.signal import find_peaks\n",
    "\n",
    "rcParams['figure.figsize'] = 20, 10\n",
    "rcParams[\"legend.markerscale\"] = 1\n",
    "rcParams[\"legend.handlelength\"] = 1.0\n",
    "rcParams[\"legend.handletextpad\"] = 0.5\n",
    "\n",
    "\n",
    "for key in select_dict: \n",
    "    integArr = np.array([])\n",
    "    for row in select_dict[key]:\n",
    "        \n",
    "        indata= row[1060:1350,]\n",
    "        result_simps = integrate.simps(indata)\n",
    "        #print(result_simps)\n",
    "        integArr = np.append(integArr, result_simps)\n",
    "        #print(integArr.shape)\n",
    "        #plt.plot(integArr)\n",
    "    peaks, properties = find_peaks(integArr, prominence=1, width=10)\n",
    "    print(properties[\"prominences\"]) \n",
    "    print(properties[\"widths\"])\n",
    "    \n",
    "    plt.hist(integArr, bins=300, density=True, facecolor='g', alpha=0.75, label=key)\n",
    "    #plt.plot(integArr)\n",
    "    #plt.plot(peaks, integArr[peaks], \"x\")\n",
    "    plt.vlines(x=peaks, ymin=integArr[peaks] - properties[\"prominences\"], ymax = integArr[peaks], color = \"C1\")\n",
    "    #sns.distplot(integArr)\n",
    "    #sns.distplot(integArr,fit=stats.maxwell)\n",
    "\n",
    "    #plt.yscale('log')\n",
    "    plt.grid(True)\n",
    "    plt.legend(labelspacing=1, fontsize='xx-large')  # To draw legend\n",
    "    plt.tick_params(axis='both',which='minor', direction=\"in\",length=5,width=1)\n",
    "    plt.tick_params(axis='y',which='major', direction=\"in\",length=10,width=2)\n",
    "    plt.tick_params(axis='x',which='major', direction=\"in\",length=10,width=1)\n",
    "\n",
    "    plt.show()\n",
    "    "
   ]
  },
  {
   "cell_type": "code",
   "execution_count": 16,
   "metadata": {},
   "outputs": [
    {
     "ename": "NameError",
     "evalue": "name 'savgol_filter' is not defined",
     "output_type": "error",
     "traceback": [
      "\u001b[0;31m---------------------------------------------------------------------------\u001b[0m",
      "\u001b[0;31mNameError\u001b[0m                                 Traceback (most recent call last)",
      "\u001b[0;32m<ipython-input-16-2ea3ca6eae31>\u001b[0m in \u001b[0;36m<module>\u001b[0;34m\u001b[0m\n\u001b[0;32m----> 1\u001b[0;31m \u001b[0masdads\u001b[0m \u001b[0;34m=\u001b[0m \u001b[0msavgol_filter\u001b[0m\u001b[0;34m(\u001b[0m\u001b[0marr\u001b[0m\u001b[0;34m,\u001b[0m \u001b[0;36m5\u001b[0m\u001b[0;34m,\u001b[0m \u001b[0;36m2\u001b[0m\u001b[0;34m,\u001b[0m \u001b[0mmode\u001b[0m\u001b[0;34m=\u001b[0m\u001b[0;34m'nearest'\u001b[0m\u001b[0;34m)\u001b[0m\u001b[0;34m\u001b[0m\u001b[0;34m\u001b[0m\u001b[0m\n\u001b[0m\u001b[1;32m      2\u001b[0m \u001b[0masdads\u001b[0m\u001b[0;34m\u001b[0m\u001b[0;34m\u001b[0m\u001b[0m\n",
      "\u001b[0;31mNameError\u001b[0m: name 'savgol_filter' is not defined"
     ]
    }
   ],
   "source": [
    "asdads = savgol_filter(arr, 5, 2, mode='nearest')\n",
    "asdads"
   ]
  },
  {
   "cell_type": "code",
   "execution_count": null,
   "metadata": {},
   "outputs": [],
   "source": [
    "baseline = eventSel[0:eventSel.size, 800:1050].mean(axis=1)\n",
    "#print(arr.size)\n",
    "#Nevent = (baseline.size)\n",
    "#print('nevent', Nevent)\n",
    "blines = baseline.reshape(baseline.size, 1)\n",
    "clean = eventSel-blines\n",
    "clean.shape"
   ]
  },
  {
   "cell_type": "code",
   "execution_count": null,
   "metadata": {
    "scrolled": false
   },
   "outputs": [],
   "source": [
    "for row in clean:\n",
    "    #print(row)\n",
    "    plt.plot(row)"
   ]
  },
  {
   "cell_type": "code",
   "execution_count": null,
   "metadata": {},
   "outputs": [],
   "source": [
    "from pylab import rcParams\n",
    "rcParams['figure.figsize'] = 15, 10\n",
    "data = clean.mean(axis=0)\n",
    "plt.plot(data)\n",
    "plt.grid(True)\n",
    "#t = np.arange(len(data))\n",
    "plt.xlim(900, 1600)\n",
    "#plt.ylim(-5, 200)\n",
    "plt.show()"
   ]
  },
  {
   "cell_type": "code",
   "execution_count": null,
   "metadata": {},
   "outputs": [],
   "source": [
    "import scipy.integrate as integrate\n",
    "import scipy.special as special\n",
    "result = integrate.quad(lambda data: special.jv(2.5,data), 1000, 1400)\n",
    "result"
   ]
  },
  {
   "cell_type": "code",
   "execution_count": null,
   "metadata": {},
   "outputs": [],
   "source": [
    "import scipy.integrate as integrate\n",
    "\n",
    "integArr = np.array([])\n",
    "print(integArr)\n",
    "\n",
    "for row in clean:\n",
    "\n",
    "    indata= row[1060:1350,]\n",
    "    result_simps = integrate.simps(indata)\n",
    "    #print(result_simps)\n",
    "    integArr = np.append(integArr, result_simps)\n",
    "\n",
    "print(integArr.shape)\n",
    "#plt.plot(integArr)\n",
    "n, bins, patches = plt.hist(integArr, 200, density=True, facecolor='g', alpha=0.75)\n",
    "\n",
    "plt.grid(True)\n",
    "plt.show()"
   ]
  },
  {
   "cell_type": "code",
   "execution_count": null,
   "metadata": {},
   "outputs": [],
   "source": []
  },
  {
   "cell_type": "code",
   "execution_count": null,
   "metadata": {},
   "outputs": [],
   "source": []
  },
  {
   "cell_type": "code",
   "execution_count": null,
   "metadata": {},
   "outputs": [],
   "source": [
    "from scipy import stats\n",
    "import numpy as np\n",
    "\n",
    "\n",
    "dataAll=mydata['channel_135']\n",
    "y=dataAll[ 0:dataAll.size ,0:1100]\n",
    "x = np.arange(len(y))\n",
    "print(y(axis=1))\n",
    "#slope, intercept, r_value, p_value, std_err = stats.linregress(x,y)\n",
    "print(\"r-squared:\", r_value**2)\n",
    "print(\"slope:\", slope)\n",
    "print(\"p_value:\", p_value)\n",
    "print('std_err:',std_err)\n",
    "#mask=[p_value >0.01 ]\n",
    "#dataAll[mask,:]\n",
    "\n",
    "#a\n",
    "\n",
    "#baseline = arr[0:arr.size, 1:100].mean(axis=1)"
   ]
  },
  {
   "cell_type": "code",
   "execution_count": null,
   "metadata": {},
   "outputs": [],
   "source": []
  },
  {
   "cell_type": "code",
   "execution_count": null,
   "metadata": {},
   "outputs": [],
   "source": []
  },
  {
   "cell_type": "code",
   "execution_count": null,
   "metadata": {},
   "outputs": [],
   "source": []
  },
  {
   "cell_type": "code",
   "execution_count": null,
   "metadata": {
    "scrolled": true
   },
   "outputs": [],
   "source": [
    "import matplotlib.pyplot as plt\n",
    "from scipy.misc import electrocardiogram\n",
    "from scipy.signal import find_peaks\n",
    "#x = electrocardiogram()[2000:4000]\n",
    "x=mydata['channel_135'][39]\n",
    "test=x[ 0:900]\n",
    "#print(x)\n",
    "print('_______')\n",
    "#print(test)\n",
    "peaks, _ = find_peaks(test, height=1580)\n",
    "print(test[peaks].size)\n",
    "plt.plot(x)\n",
    "plt.plot(peaks, test[peaks], \"x\")\n",
    "#plt.plot(np.zeros_like(x), \"--\", color=\"gray\")\n",
    "plt.show()\n"
   ]
  },
  {
   "cell_type": "code",
   "execution_count": null,
   "metadata": {},
   "outputs": [],
   "source": []
  },
  {
   "cell_type": "code",
   "execution_count": null,
   "metadata": {},
   "outputs": [],
   "source": []
  },
  {
   "cell_type": "code",
   "execution_count": null,
   "metadata": {
    "scrolled": true
   },
   "outputs": [],
   "source": [
    "from scipy import stats\n",
    "import numpy as np\n",
    "\n",
    "\n",
    "test=mydata['channel_135'][29]\n",
    "y=test[ 0:1100]\n",
    "x = np.arange(len(y))\n",
    "\n",
    "slope, intercept, r_value, p_value, std_err = stats.linregress(x,y)\n",
    "print(\"r-squared:\", r_value**2)\n",
    "print(\"slope:\", slope)\n",
    "print(\"p_value:\", p_value)\n",
    "print('std_err:',std_err)\n",
    "mask=[p_value >0.01 ]\n",
    "print(mask)\n",
    "\n",
    "\n",
    "baseline = arr[0:arr.size, 1:100].mean(axis=1)\n"
   ]
  },
  {
   "cell_type": "code",
   "execution_count": null,
   "metadata": {
    "scrolled": true
   },
   "outputs": [],
   "source": [
    "from scipy import stats\n",
    "import numpy as np\n",
    "\n",
    "\n",
    "test=mydata['channel_135'][39]\n",
    "y=test[ 0:1100]\n",
    "x = np.arange(len(y))\n",
    "\n",
    "slope, intercept, r_value, p_value, std_err = stats.linregress(x,y)\n",
    "print(\"r-squared:\", r_value**2)\n",
    "print(\"slope:\", slope)\n",
    "print(\"p_value:\", p_value)\n",
    "print('std_err:',std_err)\n",
    "p_value\n",
    "print(mask)"
   ]
  },
  {
   "cell_type": "code",
   "execution_count": null,
   "metadata": {},
   "outputs": [],
   "source": [
    "from scipy import stats\n",
    "import numpy as np\n",
    "\n",
    "\n",
    "test=mydata['channel_135'][39]\n",
    "y=test[ 0:1100]\n",
    "x = np.arange(len(y))\n",
    "\n",
    "slope, intercept, r_value, p_value, std_err = stats.linregress(x,y)\n",
    "print(\"r-squared:\", r_value**2)\n",
    "print(\"slope:\", slope)\n",
    "print(\"p_value:\", p_value)\n",
    "print('std_err:',std_err)\n",
    "mask=[p_value >0.01 ]\n",
    "\n",
    "#y=None"
   ]
  },
  {
   "cell_type": "code",
   "execution_count": null,
   "metadata": {},
   "outputs": [],
   "source": [
    "from scipy import stats\n",
    "import numpy as np\n",
    "\n",
    "\n",
    "test=mydata['channel_135'][3]\n",
    "y=test[ 0:1100]\n",
    "x = np.arange(len(y))\n",
    "\n",
    "slope, intercept, r_value, p_value, std_err = stats.linregress(x,y)\n",
    "print(\"r-squared:\", r_value**2)\n",
    "print(\"slope:\", slope)\n",
    "print(\"p_value:\", p_value)\n",
    "print('std_err:',std_err)\n",
    "mask=[p_value >0.01 ]\n",
    "print(mask)\n",
    "mask1=np.array([True, True, False,])\n",
    "print(mask1)\n",
    "a[mask1,:]\n",
    "\n",
    "\n",
    "baseline = arr[0:arr.size, 1:100].mean(axis=1)\n",
    "print(arr.size)\n",
    "Nevent = (baseline.size)\n",
    "print('nevent', Nevent)\n",
    "blines = baseline.reshape(baseline.size, 1)\n",
    "clean = arr-blines\n",
    "clean.shape"
   ]
  },
  {
   "cell_type": "code",
   "execution_count": null,
   "metadata": {},
   "outputs": [],
   "source": [
    "# https://en.wikipedia.org/wiki/QRS_complex\n",
    "peaks, _ = find_peaks(x, distance=1)\n",
    "np.diff(peaks)\n",
    "plt.plot(x)\n",
    "plt.plot(peaks, x[peaks], \"x\")\n",
    "plt.show()"
   ]
  },
  {
   "cell_type": "code",
   "execution_count": null,
   "metadata": {},
   "outputs": [],
   "source": [
    "peaks, properties = find_peaks(x, prominence=(None, 1))\n",
    "                                 #prominences = peak_prominences(x, peaks)[0]\n",
    "properties[\"prominences\"].max()\n",
    "#0.5049999999999999\n",
    "plt.plot(x)\n",
    "plt.plot(peaks, x[peaks], \"x\")\n",
    "plt.show()\n"
   ]
  },
  {
   "cell_type": "code",
   "execution_count": null,
   "metadata": {},
   "outputs": [],
   "source": [
    "from scipy.signal import find_peaks, peak_prominences\n",
    "import matplotlib.pyplot as plt\n",
    "\n",
    "\n",
    "\n",
    "peaks, _ = find_peaks(x)\n",
    "prominences = peak_prominences(x, peaks)[0]\n",
    "prominences\n",
    "#array([1.24159486, 0.47840168, 0.28470524, 3.10716793, 0.284603  ,\n",
    "       0.47822491, 2.48340261, 0.47822491])\n",
    "\n",
    "plt.show()\n",
    "\n"
   ]
  },
  {
   "cell_type": "code",
   "execution_count": null,
   "metadata": {},
   "outputs": [],
   "source": []
  },
  {
   "cell_type": "code",
   "execution_count": null,
   "metadata": {},
   "outputs": [],
   "source": []
  },
  {
   "cell_type": "code",
   "execution_count": null,
   "metadata": {},
   "outputs": [],
   "source": []
  },
  {
   "cell_type": "code",
   "execution_count": null,
   "metadata": {},
   "outputs": [],
   "source": []
  },
  {
   "cell_type": "code",
   "execution_count": null,
   "metadata": {},
   "outputs": [],
   "source": []
  },
  {
   "cell_type": "code",
   "execution_count": null,
   "metadata": {},
   "outputs": [],
   "source": [
    ">>> plt.plot(x)\n",
    ">>> plt.plot(peaks, x[peaks], \"x\")\n",
    ">>> plt.show()"
   ]
  },
  {
   "cell_type": "code",
   "execution_count": null,
   "metadata": {},
   "outputs": [],
   "source": [
    "rcParams['figure.figsize'] = 20, 10\n",
    "\n",
    "for x in range(10):\n",
    "    plt.plot(mydata['channel_135'][x], label=x, linewidth=4)\n",
    "    plt.title('channel_135')\n",
    "    plt.title('one event', loc='left')\n",
    "    plt.title('ProtoDune Preliminary', loc='right')\n",
    "    plt.grid(True)\n",
    "\n",
    "    plt.legend(labelspacing=1, fontsize='x-large')  # To draw legend\n",
    "    plt.tick_params(axis='both',which='minor', direction=\"in\",length=5,width=1)\n",
    "    plt.tick_params(axis='y',which='major', direction=\"in\",length=10,width=2)\n",
    "    plt.tick_params(axis='x',which='major', direction=\"in\",length=10,width=1)\n",
    "plt.show()\n"
   ]
  },
  {
   "cell_type": "code",
   "execution_count": null,
   "metadata": {},
   "outputs": [],
   "source": [
    "%matplotlib inline\n",
    "plt.plot(data)\n",
    "plt.plot(peaks,data[peaks],\"x\")\n",
    "plt.plot(np.zeros_like(data),\"-\",color=\"gray\")\n",
    "plt.show()"
   ]
  },
  {
   "cell_type": "code",
   "execution_count": null,
   "metadata": {},
   "outputs": [],
   "source": []
  },
  {
   "cell_type": "code",
   "execution_count": null,
   "metadata": {},
   "outputs": [],
   "source": []
  },
  {
   "cell_type": "code",
   "execution_count": null,
   "metadata": {},
   "outputs": [],
   "source": [
    "a = np.array([[1,20,30,40],\n",
    "              [5,60,70,80],\n",
    "              [2,10,11,12]])\n",
    "a.shape"
   ]
  },
  {
   "cell_type": "code",
   "execution_count": null,
   "metadata": {},
   "outputs": [],
   "source": [
    " a[a[:,0] > 3]\n",
    "baseline = arr[0:arr.size, 1:100].mean(axis=1)"
   ]
  },
  {
   "cell_type": "code",
   "execution_count": null,
   "metadata": {},
   "outputs": [],
   "source": [
    "mask=np.array([True, True, False,])\n",
    "print(mask)\n",
    "a[mask,:] "
   ]
  },
  {
   "cell_type": "code",
   "execution_count": null,
   "metadata": {},
   "outputs": [],
   "source": []
  },
  {
   "cell_type": "code",
   "execution_count": null,
   "metadata": {},
   "outputs": [],
   "source": []
  },
  {
   "cell_type": "code",
   "execution_count": null,
   "metadata": {},
   "outputs": [],
   "source": []
  },
  {
   "cell_type": "code",
   "execution_count": null,
   "metadata": {},
   "outputs": [],
   "source": []
  }
 ],
 "metadata": {
  "hide_input": false,
  "kernelspec": {
   "display_name": "Python 3",
   "language": "python",
   "name": "python3"
  },
  "language_info": {
   "codemirror_mode": {
    "name": "ipython",
    "version": 3
   },
   "file_extension": ".py",
   "mimetype": "text/x-python",
   "name": "python",
   "nbconvert_exporter": "python",
   "pygments_lexer": "ipython3",
   "version": "3.7.6"
  },
  "varInspector": {
   "cols": {
    "lenName": 16,
    "lenType": 16,
    "lenVar": 40
   },
   "kernels_config": {
    "python": {
     "delete_cmd_postfix": "",
     "delete_cmd_prefix": "del ",
     "library": "var_list.py",
     "varRefreshCmd": "print(var_dic_list())"
    },
    "r": {
     "delete_cmd_postfix": ") ",
     "delete_cmd_prefix": "rm(",
     "library": "var_list.r",
     "varRefreshCmd": "cat(var_dic_list()) "
    }
   },
   "types_to_exclude": [
    "module",
    "function",
    "builtin_function_or_method",
    "instance",
    "_Feature"
   ],
   "window_display": false
  }
 },
 "nbformat": 4,
 "nbformat_minor": 2
}
